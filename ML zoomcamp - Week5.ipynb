{
 "cells": [
  {
   "cell_type": "code",
   "execution_count": null,
   "id": "331350c3-32c4-469d-a0e3-c3fbe4c55bf6",
   "metadata": {},
   "outputs": [],
   "source": [
    "import pandas as pd"
   ]
  },
  {
   "cell_type": "code",
   "execution_count": null,
   "id": "0e0b27dd-19ae-4407-b3bd-505997ba5d13",
   "metadata": {},
   "outputs": [],
   "source": [
    "df=pd.read_csv(\"C:/Users/mamun/OneDrive/Desktop/Data_science_project/ML Zoomcamp/bank.csv\",sep=',')\n",
    "df.head()"
   ]
  },
  {
   "cell_type": "markdown",
   "id": "630a1b05-3144-4db5-8428-819a21a02684",
   "metadata": {},
   "source": [
    "### Question 1\n",
    "* Install Pipenv\n",
    "* What's the version of pipenv you installed?\n",
    "* Use --version to find out"
   ]
  },
  {
   "cell_type": "code",
   "execution_count": 34,
   "id": "d68a192c-c356-479a-8d28-342dda9fe612",
   "metadata": {},
   "outputs": [
    {
     "name": "stdout",
     "output_type": "stream",
     "text": [
      "pipenv, version 2023.10.3\n"
     ]
    }
   ],
   "source": [
    "!pipenv --version"
   ]
  },
  {
   "cell_type": "markdown",
   "id": "6acf6642-9b03-47fd-8a64-24f3256fd45b",
   "metadata": {},
   "source": [
    "### Question 2\n",
    "* Use Pipenv to install Scikit-Learn version 1.3.1\n",
    "* What's the first hash for scikit-learn you get in Pipfile.lock?\n",
    "* Note: you should create an empty folder for homework and do it there."
   ]
  },
  {
   "cell_type": "code",
   "execution_count": 35,
   "id": "a2032c78-574c-405b-8945-eb324acfe217",
   "metadata": {},
   "outputs": [
    {
     "name": "stdout",
     "output_type": "stream",
     "text": [
      "Installing scikit-learn==1.3.1...\n",
      "Resolving scikit-learn==1.3.1...\n",
      "[    ] Installing...\n",
      "Installation Succeeded\n",
      "[    ] Installing scikit-learn...\n",
      "[    ] Installing scikit-learn...\n",
      "\n",
      "Installing dependencies from Pipfile.lock (98d9d9)...\n",
      "To activate this project's virtualenv, run pipenv shell.\n",
      "Alternatively, run a command inside the virtualenv with pipenv run.\n"
     ]
    },
    {
     "name": "stderr",
     "output_type": "stream",
     "text": [
      "Courtesy Notice: Pipenv found itself running within a virtual environment, so it will automatically use that environment, instead of creating its own for any project. You can set PIPENV_IGNORE_VIRTUALENVS=1 to force pipenv to ignore that environment and create its own instead. You can set PIPENV_VERBOSITY=-1 to suppress this warning.\n"
     ]
    }
   ],
   "source": [
    "!pipenv install scikit-learn==1.3.1"
   ]
  },
  {
   "cell_type": "markdown",
   "id": "a3a371fe-9df5-4a73-bf50-5fe2e21a1a80",
   "metadata": {},
   "source": [
    "first hash for scikit-learn : sha256\": \"e0d12a0331eb3926e2e7c7c37be9118ab3619b518475b3c3897cdb40da98d9d9\""
   ]
  },
  {
   "cell_type": "markdown",
   "id": "9971cfeb-a166-48bc-8c0e-72c64605a1f9",
   "metadata": {},
   "source": [
    "### Question - 3"
   ]
  },
  {
   "cell_type": "markdown",
   "id": "d760d629-3b71-48b7-aa3c-1a19e8155ebb",
   "metadata": {},
   "source": [
    "PREFIX=https://raw.githubusercontent.com/DataTalksClub/machine-learning-zoomcamp/master/cohorts/2023/05-deployment/homework\n",
    "* wget $PREFIX/model1.bin\n",
    "* wget $PREFIX/dv.bin\n",
    "* Write a script for loading these models with pickle\n",
    "* Score this client:\n",
    "{\"job\": \"retired\", \"duration\": 445, \"poutcome\": \"success\"}\n",
    "* What's the probability that this client will get a credit?"
   ]
  },
  {
   "cell_type": "code",
   "execution_count": 36,
   "id": "f187e27f-e810-4aa6-a21b-ef962bc02eb3",
   "metadata": {},
   "outputs": [],
   "source": [
    "import requests\n",
    "\n",
    "# Define the URL for the files\n",
    "url_prefix = \"https://raw.githubusercontent.com/DataTalksClub/machine-learning-zoomcamp/master/cohorts/2023/05-deployment/homework\"\n",
    "model_url = f\"{url_prefix}/model1.bin\"\n",
    "dv_url = f\"{url_prefix}/dv.bin\"\n",
    "\n",
    "# local file names to save the downloaded files\n",
    "model_filename = \"model1.bin\"\n",
    "dv_filename = \"dv.bin\"\n",
    "\n",
    "# Download the model1.bin file\n",
    "response = requests.get(model_url)\n",
    "with open(model_filename, 'wb') as file:\n",
    "    file.write(response.content)\n",
    "\n",
    "# Download the dv.bin file\n",
    "response = requests.get(dv_url)\n",
    "with open(dv_filename, 'wb') as file:\n",
    "    file.write(response.content)\n"
   ]
  },
  {
   "cell_type": "code",
   "execution_count": 37,
   "id": "f3c699fa-5c67-4fb0-99f4-c1c9481da51d",
   "metadata": {},
   "outputs": [
    {
     "name": "stdout",
     "output_type": "stream",
     "text": [
      "Probability of getting credit: 0.902\n"
     ]
    }
   ],
   "source": [
    "import pickle\n",
    "\n",
    "# Load the scikit-learn model\n",
    "with open('model1.bin', 'rb') as model_file:\n",
    "    scikit_model = pickle.load(model_file)\n",
    "\n",
    "# Load the label encoder (dv.bin) to transform input data\n",
    "with open('dv.bin', 'rb') as encoder_file:\n",
    "    dv = pickle.load(encoder_file)\n",
    "\n",
    "# Define the input data\n",
    "input_data = {\n",
    "    \"job\": \"retired\",\n",
    "    \"duration\": 445,\n",
    "    \"poutcome\": \"success\"\n",
    "}\n",
    "\n",
    "# Transform the input data using the label encoder\n",
    "input_data_transformed = dv.transform([input_data])\n",
    "\n",
    "# Make a probability prediction\n",
    "probability = scikit_model.predict_proba(input_data_transformed)\n",
    "\n",
    "# Get the probability of getting a credit (class 1)\n",
    "probability_of_getting_credit = probability[0][1]\n",
    "\n",
    "print(f\"Probability of getting credit: {probability_of_getting_credit:.3f}\")\n"
   ]
  },
  {
   "cell_type": "markdown",
   "id": "33ce3870-c533-4c18-96cc-e8d2c3bd84fe",
   "metadata": {},
   "source": [
    "### Question-4\n",
    "Now let's serve this model as a web service\n",
    "* Install Flask and gunicorn (or waitress, if you're on Windows)\n",
    "* Write Flask code for serving the model\n",
    "* Now score this client using requests:\n",
    "* url = \"YOUR_URL\"\n",
    "* client = {\"job\": \"unknown\", \"duration\": 270, \"poutcome\": \"failure\"}\n",
    "requests.post(url, json=client).json()"
   ]
  },
  {
   "cell_type": "code",
   "execution_count": 52,
   "id": "460b0107-9332-4dee-bdbb-6ea2f0a87c17",
   "metadata": {},
   "outputs": [
    {
     "name": "stdout",
     "output_type": "stream",
     "text": [
      "Requirement already satisfied: Flask in c:\\users\\mamun\\onedrive\\desktop\\data_science_project\\ml zoomcamp\\myenv\\first_virtual_project\\myenv\\lib\\site-packages (3.0.0)\n",
      "Requirement already satisfied: gunicorn in c:\\users\\mamun\\onedrive\\desktop\\data_science_project\\ml zoomcamp\\myenv\\first_virtual_project\\myenv\\lib\\site-packages (21.2.0)\n",
      "Requirement already satisfied: Werkzeug>=3.0.0 in c:\\users\\mamun\\onedrive\\desktop\\data_science_project\\ml zoomcamp\\myenv\\first_virtual_project\\myenv\\lib\\site-packages (from Flask) (3.0.0)\n",
      "Requirement already satisfied: Jinja2>=3.1.2 in c:\\users\\mamun\\onedrive\\desktop\\data_science_project\\ml zoomcamp\\myenv\\first_virtual_project\\myenv\\lib\\site-packages (from Flask) (3.1.2)\n",
      "Requirement already satisfied: itsdangerous>=2.1.2 in c:\\users\\mamun\\onedrive\\desktop\\data_science_project\\ml zoomcamp\\myenv\\first_virtual_project\\myenv\\lib\\site-packages (from Flask) (2.1.2)\n",
      "Requirement already satisfied: click>=8.1.3 in c:\\users\\mamun\\onedrive\\desktop\\data_science_project\\ml zoomcamp\\myenv\\first_virtual_project\\myenv\\lib\\site-packages (from Flask) (8.1.7)\n",
      "Requirement already satisfied: blinker>=1.6.2 in c:\\users\\mamun\\onedrive\\desktop\\data_science_project\\ml zoomcamp\\myenv\\first_virtual_project\\myenv\\lib\\site-packages (from Flask) (1.6.3)\n",
      "Requirement already satisfied: packaging in c:\\users\\mamun\\onedrive\\desktop\\data_science_project\\ml zoomcamp\\myenv\\first_virtual_project\\myenv\\lib\\site-packages (from gunicorn) (23.2)\n",
      "Requirement already satisfied: colorama in c:\\users\\mamun\\onedrive\\desktop\\data_science_project\\ml zoomcamp\\myenv\\first_virtual_project\\myenv\\lib\\site-packages (from click>=8.1.3->Flask) (0.4.6)\n",
      "Requirement already satisfied: MarkupSafe>=2.0 in c:\\users\\mamun\\onedrive\\desktop\\data_science_project\\ml zoomcamp\\myenv\\first_virtual_project\\myenv\\lib\\site-packages (from Jinja2>=3.1.2->Flask) (2.1.3)\n"
     ]
    }
   ],
   "source": [
    "!pip install Flask gunicorn\n"
   ]
  },
  {
   "cell_type": "code",
   "execution_count": 55,
   "id": "3d35555a-013b-4bb5-ac6f-2cedbfa29d0c",
   "metadata": {},
   "outputs": [
    {
     "name": "stdout",
     "output_type": "stream",
     "text": [
      " * Serving Flask app 'bank-credict-scoring'\n",
      " * Debug mode: on\n"
     ]
    },
    {
     "name": "stderr",
     "output_type": "stream",
     "text": [
      "WARNING: This is a development server. Do not use it in a production deployment. Use a production WSGI server instead.\n",
      " * Running on all addresses (0.0.0.0)\n",
      " * Running on http://127.0.0.1:9696\n",
      " * Running on http://192.168.4.20:9696\n",
      "Press CTRL+C to quit\n",
      " * Restarting with stat\n"
     ]
    },
    {
     "ename": "SystemExit",
     "evalue": "1",
     "output_type": "error",
     "traceback": [
      "An exception has occurred, use %tb to see the full traceback.\n",
      "\u001b[1;31mSystemExit\u001b[0m\u001b[1;31m:\u001b[0m 1\n"
     ]
    }
   ],
   "source": [
    "import pickle\n",
    "\n",
    "from flask import Flask\n",
    "from flask import request\n",
    "from flask import jsonify\n",
    "\n",
    "\n",
    "def load_bin(filename: str):\n",
    "    with open(filename, 'rb') as f_in:\n",
    "        return pickle.load(f_in)\n",
    "\n",
    "\n",
    "dv = load_bin('dv.bin')\n",
    "model = load_bin('model1.bin')\n",
    "\n",
    "app = Flask('bank-credict-scoring')\n",
    "\n",
    "\n",
    "@app.route('/predict', methods=['POST'])\n",
    "def predict():\n",
    "    client = request.get_json()\n",
    "\n",
    "    X = dv.transform([client])\n",
    "    y_pred = model.predict_proba(X)[0][1]\n",
    "\n",
    "    result = {\n",
    "        'get_credit_probability': float(y_pred)\n",
    "    }\n",
    "\n",
    "    return jsonify(result)\n",
    "\n",
    "\n",
    "if __name__ == \"__main__\":\n",
    "    app.run(debug=True, host='0.0.0.0', port=9696)"
   ]
  },
  {
   "cell_type": "code",
   "execution_count": 54,
   "id": "d6f841fd-7465-4dd9-ae96-ff707d3ae490",
   "metadata": {},
   "outputs": [
    {
     "ename": "JSONDecodeError",
     "evalue": "Expecting value: line 1 column 1 (char 0)",
     "output_type": "error",
     "traceback": [
      "\u001b[1;31m---------------------------------------------------------------------------\u001b[0m",
      "\u001b[1;31mJSONDecodeError\u001b[0m                           Traceback (most recent call last)",
      "File \u001b[1;32m~\\OneDrive\\Desktop\\Data_science_project\\ML Zoomcamp\\myenv\\first_virtual_project\\myenv\\Lib\\site-packages\\requests\\models.py:971\u001b[0m, in \u001b[0;36mResponse.json\u001b[1;34m(self, **kwargs)\u001b[0m\n\u001b[0;32m    970\u001b[0m \u001b[38;5;28;01mtry\u001b[39;00m:\n\u001b[1;32m--> 971\u001b[0m     \u001b[38;5;28;01mreturn\u001b[39;00m \u001b[43mcomplexjson\u001b[49m\u001b[38;5;241;43m.\u001b[39;49m\u001b[43mloads\u001b[49m\u001b[43m(\u001b[49m\u001b[38;5;28;43mself\u001b[39;49m\u001b[38;5;241;43m.\u001b[39;49m\u001b[43mtext\u001b[49m\u001b[43m,\u001b[49m\u001b[43m \u001b[49m\u001b[38;5;241;43m*\u001b[39;49m\u001b[38;5;241;43m*\u001b[39;49m\u001b[43mkwargs\u001b[49m\u001b[43m)\u001b[49m\n\u001b[0;32m    972\u001b[0m \u001b[38;5;28;01mexcept\u001b[39;00m JSONDecodeError \u001b[38;5;28;01mas\u001b[39;00m e:\n\u001b[0;32m    973\u001b[0m     \u001b[38;5;66;03m# Catch JSON-related errors and raise as requests.JSONDecodeError\u001b[39;00m\n\u001b[0;32m    974\u001b[0m     \u001b[38;5;66;03m# This aliases json.JSONDecodeError and simplejson.JSONDecodeError\u001b[39;00m\n",
      "File \u001b[1;32mC:\\Program Files\\WindowsApps\\PythonSoftwareFoundation.Python.3.11_3.11.1776.0_x64__qbz5n2kfra8p0\\Lib\\json\\__init__.py:346\u001b[0m, in \u001b[0;36mloads\u001b[1;34m(s, cls, object_hook, parse_float, parse_int, parse_constant, object_pairs_hook, **kw)\u001b[0m\n\u001b[0;32m    343\u001b[0m \u001b[38;5;28;01mif\u001b[39;00m (\u001b[38;5;28mcls\u001b[39m \u001b[38;5;129;01mis\u001b[39;00m \u001b[38;5;28;01mNone\u001b[39;00m \u001b[38;5;129;01mand\u001b[39;00m object_hook \u001b[38;5;129;01mis\u001b[39;00m \u001b[38;5;28;01mNone\u001b[39;00m \u001b[38;5;129;01mand\u001b[39;00m\n\u001b[0;32m    344\u001b[0m         parse_int \u001b[38;5;129;01mis\u001b[39;00m \u001b[38;5;28;01mNone\u001b[39;00m \u001b[38;5;129;01mand\u001b[39;00m parse_float \u001b[38;5;129;01mis\u001b[39;00m \u001b[38;5;28;01mNone\u001b[39;00m \u001b[38;5;129;01mand\u001b[39;00m\n\u001b[0;32m    345\u001b[0m         parse_constant \u001b[38;5;129;01mis\u001b[39;00m \u001b[38;5;28;01mNone\u001b[39;00m \u001b[38;5;129;01mand\u001b[39;00m object_pairs_hook \u001b[38;5;129;01mis\u001b[39;00m \u001b[38;5;28;01mNone\u001b[39;00m \u001b[38;5;129;01mand\u001b[39;00m \u001b[38;5;129;01mnot\u001b[39;00m kw):\n\u001b[1;32m--> 346\u001b[0m     \u001b[38;5;28;01mreturn\u001b[39;00m \u001b[43m_default_decoder\u001b[49m\u001b[38;5;241;43m.\u001b[39;49m\u001b[43mdecode\u001b[49m\u001b[43m(\u001b[49m\u001b[43ms\u001b[49m\u001b[43m)\u001b[49m\n\u001b[0;32m    347\u001b[0m \u001b[38;5;28;01mif\u001b[39;00m \u001b[38;5;28mcls\u001b[39m \u001b[38;5;129;01mis\u001b[39;00m \u001b[38;5;28;01mNone\u001b[39;00m:\n",
      "File \u001b[1;32mC:\\Program Files\\WindowsApps\\PythonSoftwareFoundation.Python.3.11_3.11.1776.0_x64__qbz5n2kfra8p0\\Lib\\json\\decoder.py:337\u001b[0m, in \u001b[0;36mJSONDecoder.decode\u001b[1;34m(self, s, _w)\u001b[0m\n\u001b[0;32m    333\u001b[0m \u001b[38;5;250m\u001b[39m\u001b[38;5;124;03m\"\"\"Return the Python representation of ``s`` (a ``str`` instance\u001b[39;00m\n\u001b[0;32m    334\u001b[0m \u001b[38;5;124;03mcontaining a JSON document).\u001b[39;00m\n\u001b[0;32m    335\u001b[0m \n\u001b[0;32m    336\u001b[0m \u001b[38;5;124;03m\"\"\"\u001b[39;00m\n\u001b[1;32m--> 337\u001b[0m obj, end \u001b[38;5;241m=\u001b[39m \u001b[38;5;28;43mself\u001b[39;49m\u001b[38;5;241;43m.\u001b[39;49m\u001b[43mraw_decode\u001b[49m\u001b[43m(\u001b[49m\u001b[43ms\u001b[49m\u001b[43m,\u001b[49m\u001b[43m \u001b[49m\u001b[43midx\u001b[49m\u001b[38;5;241;43m=\u001b[39;49m\u001b[43m_w\u001b[49m\u001b[43m(\u001b[49m\u001b[43ms\u001b[49m\u001b[43m,\u001b[49m\u001b[43m \u001b[49m\u001b[38;5;241;43m0\u001b[39;49m\u001b[43m)\u001b[49m\u001b[38;5;241;43m.\u001b[39;49m\u001b[43mend\u001b[49m\u001b[43m(\u001b[49m\u001b[43m)\u001b[49m\u001b[43m)\u001b[49m\n\u001b[0;32m    338\u001b[0m end \u001b[38;5;241m=\u001b[39m _w(s, end)\u001b[38;5;241m.\u001b[39mend()\n",
      "File \u001b[1;32mC:\\Program Files\\WindowsApps\\PythonSoftwareFoundation.Python.3.11_3.11.1776.0_x64__qbz5n2kfra8p0\\Lib\\json\\decoder.py:355\u001b[0m, in \u001b[0;36mJSONDecoder.raw_decode\u001b[1;34m(self, s, idx)\u001b[0m\n\u001b[0;32m    354\u001b[0m \u001b[38;5;28;01mexcept\u001b[39;00m \u001b[38;5;167;01mStopIteration\u001b[39;00m \u001b[38;5;28;01mas\u001b[39;00m err:\n\u001b[1;32m--> 355\u001b[0m     \u001b[38;5;28;01mraise\u001b[39;00m JSONDecodeError(\u001b[38;5;124m\"\u001b[39m\u001b[38;5;124mExpecting value\u001b[39m\u001b[38;5;124m\"\u001b[39m, s, err\u001b[38;5;241m.\u001b[39mvalue) \u001b[38;5;28;01mfrom\u001b[39;00m \u001b[38;5;28;01mNone\u001b[39;00m\n\u001b[0;32m    356\u001b[0m \u001b[38;5;28;01mreturn\u001b[39;00m obj, end\n",
      "\u001b[1;31mJSONDecodeError\u001b[0m: Expecting value: line 1 column 1 (char 0)",
      "\nDuring handling of the above exception, another exception occurred:\n",
      "\u001b[1;31mJSONDecodeError\u001b[0m                           Traceback (most recent call last)",
      "Cell \u001b[1;32mIn[54], line 7\u001b[0m\n\u001b[0;32m      3\u001b[0m url \u001b[38;5;241m=\u001b[39m \u001b[38;5;124m\"\u001b[39m\u001b[38;5;124mhttp://localhost:9696/predict\u001b[39m\u001b[38;5;124m\"\u001b[39m\n\u001b[0;32m      5\u001b[0m client \u001b[38;5;241m=\u001b[39m {\u001b[38;5;124m\"\u001b[39m\u001b[38;5;124mjob\u001b[39m\u001b[38;5;124m\"\u001b[39m: \u001b[38;5;124m\"\u001b[39m\u001b[38;5;124munknown\u001b[39m\u001b[38;5;124m\"\u001b[39m, \u001b[38;5;124m\"\u001b[39m\u001b[38;5;124mduration\u001b[39m\u001b[38;5;124m\"\u001b[39m: \u001b[38;5;241m270\u001b[39m, \u001b[38;5;124m\"\u001b[39m\u001b[38;5;124mpoutcome\u001b[39m\u001b[38;5;124m\"\u001b[39m: \u001b[38;5;124m\"\u001b[39m\u001b[38;5;124mfailure\u001b[39m\u001b[38;5;124m\"\u001b[39m}\n\u001b[1;32m----> 7\u001b[0m response \u001b[38;5;241m=\u001b[39m \u001b[43mrequests\u001b[49m\u001b[38;5;241;43m.\u001b[39;49m\u001b[43mpost\u001b[49m\u001b[43m(\u001b[49m\u001b[43murl\u001b[49m\u001b[43m,\u001b[49m\u001b[43m \u001b[49m\u001b[43mjson\u001b[49m\u001b[38;5;241;43m=\u001b[39;49m\u001b[43mclient\u001b[49m\u001b[43m)\u001b[49m\u001b[38;5;241;43m.\u001b[39;49m\u001b[43mjson\u001b[49m\u001b[43m(\u001b[49m\u001b[43m)\u001b[49m\n\u001b[0;32m      9\u001b[0m \u001b[38;5;28mprint\u001b[39m(response)\n",
      "File \u001b[1;32m~\\OneDrive\\Desktop\\Data_science_project\\ML Zoomcamp\\myenv\\first_virtual_project\\myenv\\Lib\\site-packages\\requests\\models.py:975\u001b[0m, in \u001b[0;36mResponse.json\u001b[1;34m(self, **kwargs)\u001b[0m\n\u001b[0;32m    971\u001b[0m     \u001b[38;5;28;01mreturn\u001b[39;00m complexjson\u001b[38;5;241m.\u001b[39mloads(\u001b[38;5;28mself\u001b[39m\u001b[38;5;241m.\u001b[39mtext, \u001b[38;5;241m*\u001b[39m\u001b[38;5;241m*\u001b[39mkwargs)\n\u001b[0;32m    972\u001b[0m \u001b[38;5;28;01mexcept\u001b[39;00m JSONDecodeError \u001b[38;5;28;01mas\u001b[39;00m e:\n\u001b[0;32m    973\u001b[0m     \u001b[38;5;66;03m# Catch JSON-related errors and raise as requests.JSONDecodeError\u001b[39;00m\n\u001b[0;32m    974\u001b[0m     \u001b[38;5;66;03m# This aliases json.JSONDecodeError and simplejson.JSONDecodeError\u001b[39;00m\n\u001b[1;32m--> 975\u001b[0m     \u001b[38;5;28;01mraise\u001b[39;00m RequestsJSONDecodeError(e\u001b[38;5;241m.\u001b[39mmsg, e\u001b[38;5;241m.\u001b[39mdoc, e\u001b[38;5;241m.\u001b[39mpos)\n",
      "\u001b[1;31mJSONDecodeError\u001b[0m: Expecting value: line 1 column 1 (char 0)"
     ]
    }
   ],
   "source": [
    "import requests\n",
    "\n",
    "url = \"http://localhost:9696/predict\"\n",
    "\n",
    "client = {\"job\": \"unknown\", \"duration\": 270, \"poutcome\": \"failure\"}\n",
    "\n",
    "response = requests.post(url, json=client).json()\n",
    "\n",
    "print(response)\n"
   ]
  },
  {
   "cell_type": "code",
   "execution_count": 43,
   "id": "d887a357-f194-42c4-bca2-38761c010270",
   "metadata": {},
   "outputs": [
    {
     "data": {
      "text/plain": [
       "<Response [500]>"
      ]
     },
     "execution_count": 43,
     "metadata": {},
     "output_type": "execute_result"
    }
   ],
   "source": [
    "requests.post(url,json=customer)"
   ]
  },
  {
   "cell_type": "code",
   "execution_count": 44,
   "id": "82c611c5-b725-443d-9aa7-66250d8b1149",
   "metadata": {},
   "outputs": [
    {
     "data": {
      "text/plain": [
       "{'job': 'unknown', 'duration': 270, 'poutcome': 'failure'}"
      ]
     },
     "execution_count": 44,
     "metadata": {},
     "output_type": "execute_result"
    }
   ],
   "source": [
    "customer"
   ]
  },
  {
   "cell_type": "code",
   "execution_count": null,
   "id": "668fcd2e-a42e-4413-bb24-131afee99efb",
   "metadata": {},
   "outputs": [],
   "source": [
    "                  "
   ]
  }
 ],
 "metadata": {
  "kernelspec": {
   "display_name": "Python 3 (ipykernel)",
   "language": "python",
   "name": "python3"
  },
  "language_info": {
   "codemirror_mode": {
    "name": "ipython",
    "version": 3
   },
   "file_extension": ".py",
   "mimetype": "text/x-python",
   "name": "python",
   "nbconvert_exporter": "python",
   "pygments_lexer": "ipython3",
   "version": "3.11.6"
  }
 },
 "nbformat": 4,
 "nbformat_minor": 5
}
